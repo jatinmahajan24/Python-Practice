{
 "cells": [
  {
   "cell_type": "markdown",
   "metadata": {},
   "source": [
    "<img src='https://www.insaid.co/wp-content/uploads/2018/04/INSAID_Logo-1.png' height=\"240\" width=\"360\"/>\n",
    "<br/>\n",
    "# Python basics"
   ]
  },
  {
   "cell_type": "markdown",
   "metadata": {
    "collapsed": true
   },
   "source": [
    "### 1.Write a Python program to print the following string\n",
    "\n",
    "Sample String: \"Welcome to INSAID- International School of AI and Data Science\"\n",
    "\n"
   ]
  },
  {
   "cell_type": "code",
   "execution_count": 1,
   "metadata": {},
   "outputs": [
    {
     "name": "stdout",
     "output_type": "stream",
     "text": [
      "Welcome to INSAID- International School of AI and Data Science\n"
     ]
    }
   ],
   "source": [
    "print(\"Welcome to INSAID- International School of AI and Data Science\")"
   ]
  },
  {
   "cell_type": "markdown",
   "metadata": {},
   "source": [
    "### 1.1 In a “Hello, World!” program, a comment may look like this:"
   ]
  },
  {
   "cell_type": "code",
   "execution_count": 2,
   "metadata": {},
   "outputs": [
    {
     "name": "stdout",
     "output_type": "stream",
     "text": [
      "Hello, World\n"
     ]
    }
   ],
   "source": [
    "# Print “Hello, World!” to console\n",
    "print(\"Hello, World\")"
   ]
  },
  {
   "cell_type": "code",
   "execution_count": 3,
   "metadata": {},
   "outputs": [
    {
     "name": "stdout",
     "output_type": "stream",
     "text": [
      "hammer\n",
      "white\n",
      "fish\n",
      "frilled\n",
      "bullhead\n",
      "requiem\n"
     ]
    }
   ],
   "source": [
    "# Define sharks variable as a list of strings ('hammer', 'white', 'fish', 'frilled', 'bullhead', 'requiem')\n",
    "\n",
    "sharks=['hammer', 'white', 'fish', 'frilled', 'bullhead', 'requiem']\n",
    "\n",
    "# For loop that iterates over sharks list and prints each string item\n",
    "\n",
    "for i in sharks:\n",
    "    print(i)\n"
   ]
  },
  {
   "cell_type": "markdown",
   "metadata": {},
   "source": [
    "### 2.Write a Python Program to Add Two Numbers"
   ]
  },
  {
   "cell_type": "code",
   "execution_count": 5,
   "metadata": {},
   "outputs": [
    {
     "name": "stdout",
     "output_type": "stream",
     "text": [
      "the sum of a and b is  9\n"
     ]
    }
   ],
   "source": [
    "# initialise two varaibles\n",
    "a = 4\n",
    "b = 5\n",
    "\n",
    "# Add two numbers\n",
    "sum=a + b\n",
    "\n",
    "# Display the sum\n",
    "print('the sum of a and b is ',sum)"
   ]
  },
  {
   "cell_type": "markdown",
   "metadata": {},
   "source": [
    "### 3.Write a Python Program to Find the product of two numbers"
   ]
  },
  {
   "cell_type": "code",
   "execution_count": 6,
   "metadata": {},
   "outputs": [
    {
     "name": "stdout",
     "output_type": "stream",
     "text": [
      "The product of a and b is  20\n"
     ]
    }
   ],
   "source": [
    "# initialise two varaibles\n",
    "a = 4\n",
    "b = 5\n",
    "\n",
    "\n",
    "# multiply two numbers\n",
    "product= a * b\n",
    "\n",
    "# Display the product\n",
    "\n",
    "print(\"The product of a and b is \", product)"
   ]
  },
  {
   "cell_type": "markdown",
   "metadata": {},
   "source": [
    "### 4.Write a python program to find the area of triangle given height and base of the triangle as 3 and 10."
   ]
  },
  {
   "cell_type": "code",
   "execution_count": 7,
   "metadata": {},
   "outputs": [
    {
     "name": "stdout",
     "output_type": "stream",
     "text": [
      "The area of triangle is  15.0\n"
     ]
    }
   ],
   "source": [
    "# Area of the triangle A= 1/2(base * height)\n",
    "\n",
    "#given height=3 and base =10\n",
    "\n",
    "height = 3\n",
    "base = 10\n",
    "area= 1/2 * height * base\n",
    "\n",
    "print('The area of triangle is ', area)"
   ]
  },
  {
   "cell_type": "markdown",
   "metadata": {},
   "source": [
    "### 5.Python Program to Swap Two Variables"
   ]
  },
  {
   "cell_type": "code",
   "execution_count": 8,
   "metadata": {},
   "outputs": [
    {
     "name": "stdout",
     "output_type": "stream",
     "text": [
      "a is  1\n",
      "b is  2\n",
      "a is now 2\n",
      "b is now  1\n"
     ]
    }
   ],
   "source": [
    "# initialise two varaibles\n",
    "\n",
    "a = 1\n",
    "b = 2\n",
    "print ('a is ', a)\n",
    "print ('b is ', b)\n",
    "# create a temporary variable and swap the values\n",
    "c = a\n",
    "a = b\n",
    "b = c\n",
    "\n",
    "print('a is now',a)\n",
    "print('b is now ', b)\n",
    "\n"
   ]
  },
  {
   "cell_type": "markdown",
   "metadata": {},
   "source": [
    "## Section"
   ]
  },
  {
   "cell_type": "markdown",
   "metadata": {
    "collapsed": true
   },
   "source": [
    "### 1.Write a python program to print datatype of a varaible"
   ]
  },
  {
   "cell_type": "code",
   "execution_count": 9,
   "metadata": {},
   "outputs": [
    {
     "name": "stdout",
     "output_type": "stream",
     "text": [
      "the datatype of variable a is  <class 'int'>\n",
      "the datatype of variable b is  <class 'float'>\n",
      "the datatype of variable c is <class 'complex'>\n"
     ]
    }
   ],
   "source": [
    "a = 1\n",
    "print('the datatype of variable a is ', type(a))\n",
    "\n",
    "b = 2.0\n",
    "print('the datatype of variable b is ', type(b))\n",
    "\n",
    "c = 1+2j\n",
    "print('the datatype of variable c is', type(c))"
   ]
  },
  {
   "cell_type": "markdown",
   "metadata": {},
   "source": [
    "### 2.Write a python program to extract an item or a range of items from a list.\n",
    "\n"
   ]
  },
  {
   "cell_type": "code",
   "execution_count": 12,
   "metadata": {},
   "outputs": [
    {
     "name": "stdout",
     "output_type": "stream",
     "text": [
      "the item at index 2 is 35\n",
      "the first three items of list are [15, 20, 35]\n",
      "the last three items of list are  [30, 35, 60]\n",
      "the third last item is  30\n"
     ]
    }
   ],
   "source": [
    "a = [15,20,35,40,45,30,35,60]\n",
    "\n",
    "# Print the item at index 2\n",
    "print('the item at index 2 is', a[2])\n",
    "# Print the first 3 items\n",
    "print('the first three items of list are',a[:3])\n",
    "# Print the last 3 items\n",
    "print('the last three items of list are ', a[-3:])\n",
    "# Start to third last item\n",
    "print('the third last item is ', a[-3])"
   ]
  },
  {
   "cell_type": "markdown",
   "metadata": {},
   "source": [
    "### 3.Converting Floats to Integers\n"
   ]
  },
  {
   "cell_type": "code",
   "execution_count": 13,
   "metadata": {},
   "outputs": [
    {
     "name": "stdout",
     "output_type": "stream",
     "text": [
      "integer value of b is  125\n",
      "integer value of c is 390\n"
     ]
    }
   ],
   "source": [
    "b = 125.0\n",
    "c = 390.8\n",
    "\n",
    "# Print the Integer values\n",
    "print('integer value of b is ',int(b))\n",
    "print('integer value of c is', int(c))    ### converting Float variable into Interger variable does not perform round off "
   ]
  },
  {
   "cell_type": "markdown",
   "metadata": {},
   "source": [
    "### 4.Converting Numbers to Strings"
   ]
  },
  {
   "cell_type": "code",
   "execution_count": 15,
   "metadata": {},
   "outputs": [
    {
     "name": "stdout",
     "output_type": "stream",
     "text": [
      "10 is of type <class 'int'>\n",
      "10 is of type <class 'str'>\n"
     ]
    }
   ],
   "source": [
    "a = 10\n",
    "\n",
    "print(a, \"is of type\", type(a))\n",
    "\n",
    "# Convert the value in a to a string and then print\n",
    "a = str(a)\n",
    "print(a, 'is of type', type(a))"
   ]
  },
  {
   "cell_type": "markdown",
   "metadata": {},
   "source": [
    "### 5.Converting Strings to Numbers"
   ]
  },
  {
   "cell_type": "code",
   "execution_count": 18,
   "metadata": {},
   "outputs": [
    {
     "name": "stdout",
     "output_type": "stream",
     "text": [
      "difference of a and b is  58\n"
     ]
    }
   ],
   "source": [
    "a = \"50\"\n",
    "b = \"108\"\n",
    "\n",
    "# Find the difference between a and b\n",
    "\n",
    "diff= int(b) - int(a)\n",
    "print('difference of a and b is ', diff)\n"
   ]
  },
  {
   "cell_type": "markdown",
   "metadata": {},
   "source": [
    "### 6.Converting list to Tuples"
   ]
  },
  {
   "cell_type": "code",
   "execution_count": 21,
   "metadata": {},
   "outputs": [
    {
     "name": "stdout",
     "output_type": "stream",
     "text": [
      "('request', 'source', 'repository', 'branch') <class 'tuple'>\n"
     ]
    }
   ],
   "source": [
    "myList = ['request', 'source', 'repository', 'branch']\n",
    "\n",
    "# Print myList to a Tuple\n",
    "myTuple=tuple(myList)\n",
    "print(myTuple, type(myTuple))"
   ]
  },
  {
   "cell_type": "markdown",
   "metadata": {},
   "source": [
    "### 7.Converting tuple to Lists"
   ]
  },
  {
   "cell_type": "code",
   "execution_count": null,
   "metadata": {},
   "outputs": [],
   "source": [
    "myTuple = ('blue', 'red', 'white')\n",
    "\n",
    "# Print myTuple to a List"
   ]
  },
  {
   "cell_type": "markdown",
   "metadata": {
    "collapsed": true
   },
   "source": [
    "### 8.converting strings to lists:"
   ]
  },
  {
   "cell_type": "code",
   "execution_count": 22,
   "metadata": {},
   "outputs": [
    {
     "name": "stdout",
     "output_type": "stream",
     "text": [
      "['I', 'N', 'S', 'A', 'I', 'D']\n"
     ]
    }
   ],
   "source": [
    "myString = 'INSAID'\n",
    "\n",
    "# Convert myString to List\n",
    "myList1=list(myString)\n",
    "\n",
    "print(myList1)"
   ]
  },
  {
   "cell_type": "markdown",
   "metadata": {},
   "source": [
    "### 9.Assign different data types to a varibles"
   ]
  },
  {
   "cell_type": "code",
   "execution_count": 23,
   "metadata": {},
   "outputs": [
    {
     "name": "stdout",
     "output_type": "stream",
     "text": [
      "INSAID  is of type  <class 'str'>\n",
      "2.5  is of type  <class 'float'>\n",
      "True  is of type  <class 'bool'>\n",
      "['I', 'N', 'S', 'A', 'I', 'D']  is of type  <class 'list'>\n",
      "('I', 'N', 'S', 'A', 'I', 'D')  is of type  <class 'tuple'>\n",
      "{'I': 5, 'N': 2, 'S': 3, 'A': 4, 'D': 6}  is of type  <class 'dict'>\n"
     ]
    }
   ],
   "source": [
    "# Try string, float, boolean, list, tuple, dictionary\n",
    "\n",
    "myString='INSAID'\n",
    "myFloat=2.5\n",
    "myBoolean= True\n",
    "myList2=list(myString)\n",
    "myTuple=tuple(myString)\n",
    "mydict={'I' : 1 , 'N' : 2, 'S' : 3, 'A' : 4, 'I' : 5, 'D' : 6}\n",
    "\n",
    "print(myString, ' is of type ', type(myString))\n",
    "print(myFloat, ' is of type ',type(myFloat))\n",
    "print(myBoolean, ' is of type ', type(myBoolean))\n",
    "print(myList2, ' is of type ', type(myList2))\n",
    "print(myTuple, ' is of type ', type(myTuple))\n",
    "print(mydict, ' is of type ', type(mydict))\n"
   ]
  },
  {
   "cell_type": "markdown",
   "metadata": {},
   "source": [
    "## Section"
   ]
  },
  {
   "cell_type": "markdown",
   "metadata": {
    "collapsed": true
   },
   "source": [
    "### Print out a string that uses a formatter"
   ]
  },
  {
   "cell_type": "code",
   "execution_count": 24,
   "metadata": {},
   "outputs": [
    {
     "name": "stdout",
     "output_type": "stream",
     "text": [
      "john has 5 cars\n"
     ]
    }
   ],
   "source": [
    "# Print \"john has 5 cars.\" using formatter\n",
    "\n",
    "print('john has {} cars'.format(5))"
   ]
  },
  {
   "cell_type": "markdown",
   "metadata": {},
   "source": [
    "### We can also assign a variable to be equal to the value of a string that has formatter placeholders:"
   ]
  },
  {
   "cell_type": "code",
   "execution_count": 29,
   "metadata": {},
   "outputs": [
    {
     "name": "stdout",
     "output_type": "stream",
     "text": [
      "john likes open source.\n"
     ]
    }
   ],
   "source": [
    "open_string = \"john likes {}.\"\n",
    "\n",
    "# Use format method to print the following output \"john likes open source.\"\n",
    "print(open_string.format('open source'))"
   ]
  },
  {
   "cell_type": "markdown",
   "metadata": {},
   "source": [
    "### Using Formatters with Multiple Placeholders"
   ]
  },
  {
   "cell_type": "code",
   "execution_count": 30,
   "metadata": {},
   "outputs": [
    {
     "name": "stdout",
     "output_type": "stream",
     "text": [
      "john likes open source software.\n"
     ]
    }
   ],
   "source": [
    "new_open_string = \"john likes {} {}.\"                      #2 {} placeholders\n",
    "# Pass 2 strings into format method, separated by a comma to get output \"john likes open-source software.\"\n",
    "print(new_open_string.format('open source','software'))"
   ]
  },
  {
   "cell_type": "code",
   "execution_count": 32,
   "metadata": {},
   "outputs": [
    {
     "name": "stdout",
     "output_type": "stream",
     "text": [
      "john loves open source software, and has 5 laptops.\n"
     ]
    }
   ],
   "source": [
    "sammy_string = \"john loves {} {}, and has {} {}.\"                      #4 {} placeholders\n",
    "# Pass 4 strings into method to get output \"john loves open-source software, and has 5 laptops.\"\n",
    "\n",
    "print(sammy_string.format('open source','software',5,'laptops'))\n"
   ]
  },
  {
   "cell_type": "markdown",
   "metadata": {},
   "source": [
    "### Reordering Formatters with Positional and Keyword Arguments\n"
   ]
  },
  {
   "cell_type": "code",
   "execution_count": 31,
   "metadata": {},
   "outputs": [
    {
     "name": "stdout",
     "output_type": "stream",
     "text": [
      "john the shark has a pet pilot fish!\n"
     ]
    }
   ],
   "source": [
    "# Reference sample\n",
    "print(\"john the {} has a pet {}!\".format(\"shark\", \"pilot fish\"))\n",
    "\n"
   ]
  },
  {
   "cell_type": "markdown",
   "metadata": {},
   "source": [
    "### We can pass these index numbers into the curly braces that serve as the placeholders in the original string:"
   ]
  },
  {
   "cell_type": "code",
   "execution_count": 35,
   "metadata": {},
   "outputs": [
    {
     "name": "stdout",
     "output_type": "stream",
     "text": [
      "john the shark has a pet pilot fish!\n",
      "john is a happy, smiling, and blue shark!\n"
     ]
    }
   ],
   "source": [
    "# Reference Sample\n",
    "print(\"john the {0} has a pet {1}!\".format(\"shark\", \"pilot fish\"))\n",
    "\n",
    "print(\"john is a {0}, {1}, and {2} {3}!\".format(\"happy\", \"smiling\", \"blue\", \"shark\"))\n"
   ]
  },
  {
   "cell_type": "markdown",
   "metadata": {},
   "source": [
    "### Python Program to Get String Input from User\n"
   ]
  },
  {
   "cell_type": "code",
   "execution_count": 37,
   "metadata": {},
   "outputs": [
    {
     "name": "stdout",
     "output_type": "stream",
     "text": [
      "Enter your name:Jatin\n",
      "Hello  Jatin\n"
     ]
    }
   ],
   "source": [
    "#Enter any string and print it\n",
    "\n",
    "myStr=input('Enter your name:')\n",
    "print('Hello ', myStr)"
   ]
  },
  {
   "cell_type": "markdown",
   "metadata": {
    "collapsed": true
   },
   "source": [
    "### Python program for conditional statements\n",
    "\n",
    "### 1)If the student receives over 65% on her test, report that her grade passes; if not, report that her grade fails"
   ]
  },
  {
   "cell_type": "code",
   "execution_count": 39,
   "metadata": {},
   "outputs": [
    {
     "name": "stdout",
     "output_type": "stream",
     "text": [
      "Pass\n"
     ]
    }
   ],
   "source": [
    "grade = 70\n",
    "if grade < 65 :\n",
    "    print('Fail')\n",
    "else:\n",
    "    print('Pass')"
   ]
  },
  {
   "cell_type": "code",
   "execution_count": 41,
   "metadata": {},
   "outputs": [
    {
     "name": "stdout",
     "output_type": "stream",
     "text": [
      "Fail\n"
     ]
    }
   ],
   "source": [
    "# Use only if\n",
    "grade = 60\n",
    "print('Fail')\n",
    "if grade  > 65 :\n",
    "    print(\"Pass\")\n",
    "\n"
   ]
  },
  {
   "cell_type": "markdown",
   "metadata": {},
   "source": [
    "### Write a python program calculate whether a bank account balance is below 0 and print appropriate message."
   ]
  },
  {
   "cell_type": "code",
   "execution_count": 47,
   "metadata": {},
   "outputs": [
    {
     "name": "stdout",
     "output_type": "stream",
     "text": [
      "You have a 0 balance, work hard !\n"
     ]
    }
   ],
   "source": [
    "# Use if else\n",
    "balance = -10\n",
    "if balance <= 0:\n",
    "    print('You have a 0 balance, work hard !')\n",
    "else:\n",
    "    print('You have a sufficient balance')\n"
   ]
  },
  {
   "cell_type": "markdown",
   "metadata": {},
   "source": [
    "### Using Else if statement"
   ]
  },
  {
   "cell_type": "code",
   "execution_count": 48,
   "metadata": {},
   "outputs": [
    {
     "name": "stdout",
     "output_type": "stream",
     "text": [
      "You have good balance\n"
     ]
    }
   ],
   "source": [
    "balance = 522\n",
    "if balance < 0 :\n",
    "    print('You have a low balance')\n",
    "elif balance < 200 :\n",
    "    print('You have sufficient balance')\n",
    "elif balance >500:\n",
    "    print('You have good balance')\n"
   ]
  },
  {
   "cell_type": "markdown",
   "metadata": {},
   "source": [
    "### Python program to print  Fibonacci series between 0 to 50."
   ]
  },
  {
   "cell_type": "code",
   "execution_count": 249,
   "metadata": {},
   "outputs": [
    {
     "name": "stdout",
     "output_type": "stream",
     "text": [
      "1 0\n",
      "2 1\n",
      "3 1\n",
      "4 2\n",
      "5 3\n",
      "6 5\n",
      "7 8\n",
      "8 13\n",
      "9 21\n",
      "10 34\n"
     ]
    }
   ],
   "source": [
    "a=0\n",
    "b = 1\n",
    "print(1, a)\n",
    "i =0\n",
    "while b < 50 :\n",
    "    print(i+2,b)\n",
    "    a,b=b,a+b\n",
    "    i=i+1"
   ]
  },
  {
   "cell_type": "markdown",
   "metadata": {},
   "source": [
    "### Python program to find numbers which are divisible by 7 and multiple of 5 between a range 150 to 270"
   ]
  },
  {
   "cell_type": "code",
   "execution_count": 53,
   "metadata": {},
   "outputs": [
    {
     "name": "stdout",
     "output_type": "stream",
     "text": [
      "175\n",
      "210\n",
      "245\n"
     ]
    }
   ],
   "source": [
    "a=range(150,270)\n",
    "for i in a:\n",
    "    if i%7 ==0 and i%5==0:       ### Checking remainder = 0 when number is divided by 7 and 5\n",
    "        print(i)\n",
    "        \n"
   ]
  },
  {
   "cell_type": "markdown",
   "metadata": {},
   "source": [
    "### Python program to Sum all the items in a list"
   ]
  },
  {
   "cell_type": "code",
   "execution_count": 57,
   "metadata": {},
   "outputs": [
    {
     "name": "stdout",
     "output_type": "stream",
     "text": [
      "74\n",
      "55\n",
      "55\n"
     ]
    }
   ],
   "source": [
    "def sum_list(items):\n",
    "    total=0\n",
    "    for i in items:\n",
    "        total +=i\n",
    "    return total\n",
    "    \n",
    "print(sum_list([20,12,20,22]))\n",
    "\n",
    "print(sum_list([1,2,3,4,5,6,7,8,9,10]))\n",
    "print(sum_list(range(1,11)))"
   ]
  },
  {
   "cell_type": "markdown",
   "metadata": {},
   "source": [
    "### Python program to Remove duplicates from a list."
   ]
  },
  {
   "cell_type": "code",
   "execution_count": 250,
   "metadata": {},
   "outputs": [
    {
     "name": "stdout",
     "output_type": "stream",
     "text": [
      "('the new list after removing duplicate values:', [10, 20, 30, 40, 50, 60, 70, 80])\n",
      "['I', 'N', 'S', 'A', 'I', 'D']\n"
     ]
    },
    {
     "data": {
      "text/plain": [
       "('the new list after removing duplicate values:', ['I', 'N', 'S', 'A', 'D'])"
      ]
     },
     "execution_count": 250,
     "metadata": {},
     "output_type": "execute_result"
    }
   ],
   "source": [
    "a = [10,20,30,40,50,60,70,40,80,50,40]\n",
    "\n",
    "## creating a function to remove duplicates in a list\n",
    "\n",
    "def remove_list_duplicate(items):\n",
    "    new_list=[]\n",
    "    for i in items:\n",
    "        if i not in new_list:\n",
    "            new_list.append(i)\n",
    "    return (\"the new list after removing duplicate values:\", new_list)\n",
    "\n",
    "print(remove_list_duplicate(a))\n",
    "\n",
    "b=list('INSAID')\n",
    "print(b)\n",
    "remove_list_duplicate(b)\n",
    "\n"
   ]
  },
  {
   "cell_type": "code",
   "execution_count": 67,
   "metadata": {},
   "outputs": [
    {
     "name": "stdout",
     "output_type": "stream",
     "text": [
      "[70, 40, 10, 80, 50, 20, 60, 30]\n",
      "[10, 20, 30, 40, 50, 60, 70, 80]\n"
     ]
    }
   ],
   "source": [
    "### Other method is to convert list into a SET and then change back to list with sorting to get the same results.\n",
    "### SET by definition does not have duplicates but it lacks order as well as it lacks in built indexes.\n",
    "\n",
    "new_list=list(set(a))      ## without sorting\n",
    "print(new_list)\n",
    "new_list1=sorted(list(set(a)))  ## with sorting\n",
    "print(new_list1)"
   ]
  },
  {
   "cell_type": "markdown",
   "metadata": {},
   "source": [
    "### Python program to Get the largest number from a list."
   ]
  },
  {
   "cell_type": "code",
   "execution_count": 105,
   "metadata": {},
   "outputs": [
    {
     "name": "stdout",
     "output_type": "stream",
     "text": [
      "84\n"
     ]
    }
   ],
   "source": [
    "def max_num_in_list(items):\n",
    "    list_len=len(items)\n",
    "    i=0\n",
    "    while i < list_len-1:\n",
    "        max_num = items[i]\n",
    "        if max_num < items[i+1]:\n",
    "            max_num = items[i+1]\n",
    "        else:\n",
    "            max_num=items[i]\n",
    "                   \n",
    "        i= i+1\n",
    "    return (max_num)\n",
    "    \n",
    "print(max_num_in_list([1, 12, 28, 0,40,39,84]))"
   ]
  },
  {
   "cell_type": "markdown",
   "metadata": {},
   "source": [
    "### Concatenation of Tuples."
   ]
  },
  {
   "cell_type": "code",
   "execution_count": 106,
   "metadata": {},
   "outputs": [
    {
     "name": "stdout",
     "output_type": "stream",
     "text": [
      "(0, 1, 2, 3, 'python', 'code')\n"
     ]
    }
   ],
   "source": [
    "# Code for concatenating 2 tuples\n",
    " \n",
    "tuple1 = (0, 1, 2, 3)\n",
    "tuple2 = ('python', 'code')\n",
    " \n",
    "# Concatenating above two\n",
    "print(tuple1 + tuple2 )"
   ]
  },
  {
   "cell_type": "markdown",
   "metadata": {},
   "source": [
    "### Nesting of Tuples."
   ]
  },
  {
   "cell_type": "code",
   "execution_count": 109,
   "metadata": {},
   "outputs": [
    {
     "name": "stdout",
     "output_type": "stream",
     "text": [
      "(0, 1, 2, 3, 'python', 'code')\n"
     ]
    }
   ],
   "source": [
    "# Code for creating nested tuples\n",
    " \n",
    "tuple1 = (0, 1, 2, 3)\n",
    "tuple2 = ('python', 'code')\n",
    "tuple3 = (tuple1) + (tuple2)\n",
    "print(tuple3)\n"
   ]
  },
  {
   "cell_type": "markdown",
   "metadata": {},
   "source": [
    "### Write a Python program to add an item in a tuple."
   ]
  },
  {
   "cell_type": "code",
   "execution_count": 117,
   "metadata": {},
   "outputs": [
    {
     "name": "stdout",
     "output_type": "stream",
     "text": [
      "(1, 2, 3, 4, 5)\n",
      "2\n"
     ]
    },
    {
     "ename": "TypeError",
     "evalue": "'tuple' object does not support item assignment",
     "output_type": "error",
     "traceback": [
      "\u001b[1;31m---------------------------------------------------------------------------\u001b[0m",
      "\u001b[1;31mTypeError\u001b[0m                                 Traceback (most recent call last)",
      "\u001b[1;32m<ipython-input-117-c512c8b3bd14>\u001b[0m in \u001b[0;36m<module>\u001b[1;34m\u001b[0m\n\u001b[0;32m     11\u001b[0m \u001b[1;33m\u001b[0m\u001b[0m\n\u001b[0;32m     12\u001b[0m \u001b[0mtuple_n\u001b[0m \u001b[1;33m+\u001b[0m \u001b[1;33m(\u001b[0m\u001b[1;36m5\u001b[0m\u001b[1;33m,\u001b[0m\u001b[1;36m6\u001b[0m\u001b[1;33m,\u001b[0m\u001b[1;36m3\u001b[0m\u001b[1;33m)\u001b[0m\u001b[1;33m\u001b[0m\u001b[1;33m\u001b[0m\u001b[0m\n\u001b[1;32m---> 13\u001b[1;33m \u001b[0mtuple_n\u001b[0m\u001b[1;33m[\u001b[0m\u001b[1;36m4\u001b[0m\u001b[1;33m]\u001b[0m\u001b[1;33m=\u001b[0m\u001b[1;36m5\u001b[0m\u001b[1;33m\u001b[0m\u001b[1;33m\u001b[0m\u001b[0m\n\u001b[0m",
      "\u001b[1;31mTypeError\u001b[0m: 'tuple' object does not support item assignment"
     ]
    }
   ],
   "source": [
    "# Create a tuple & print\n",
    "\n",
    "tuple_n=(1,2,3,4,5)\n",
    "print(tuple_n)\n",
    "\n",
    "#tuples are immutable, so you can not add new elements\n",
    "#using merge of tuples with the + operator you can add an element and it will create a new tuple\n",
    "\n",
    "# Adding items in a specific index\n",
    "print(tuple_n[1])\n",
    "\n",
    "tuple_n + (5,6,3)\n",
    "tuple_n[4]=5"
   ]
  },
  {
   "cell_type": "markdown",
   "metadata": {},
   "source": [
    "### Write a Python program to remove an item from a tuple."
   ]
  },
  {
   "cell_type": "code",
   "execution_count": 141,
   "metadata": {},
   "outputs": [
    {
     "name": "stdout",
     "output_type": "stream",
     "text": [
      "(1, 2, 3, 4, 5)\n",
      "[1, 2, 3, 4, 5]\n",
      "(1, 2, 4, 5)\n"
     ]
    }
   ],
   "source": [
    "# Create a tuple and print it\n",
    "tuple_x=(1,2,3,4,5)\n",
    "print(tuple_x)\n",
    "# Find a way to remove an item of the tuple (Hint: Use other data types)\n",
    "mylist_x=list(tuple_x)\n",
    "print(mylist_x)\n",
    "mylist_x.remove(3)\n",
    "tuple_x=tuple(mylist_x)\n",
    "print(tuple_x)"
   ]
  },
  {
   "cell_type": "markdown",
   "metadata": {},
   "source": [
    "### Python Program to Check if a given key already exists in a dictionary."
   ]
  },
  {
   "cell_type": "code",
   "execution_count": 149,
   "metadata": {},
   "outputs": [
    {
     "name": "stdout",
     "output_type": "stream",
     "text": [
      "True\n",
      "False\n"
     ]
    }
   ],
   "source": [
    "d = {1: 10, 2: 20, 3: 30, 4: 40, 5: 50, 6: 60}\n",
    "def is_key_present(x,d):\n",
    "  flag=False\n",
    "  if x in d:\n",
    "        flag=True\n",
    "  else: \n",
    "    flag=flag\n",
    "  return flag\n",
    "print(is_key_present(5,d))\n",
    "print(is_key_present(9,d))"
   ]
  },
  {
   "cell_type": "markdown",
   "metadata": {},
   "source": [
    "### Write a Python script to merge two Python dictionaries."
   ]
  },
  {
   "cell_type": "code",
   "execution_count": 160,
   "metadata": {},
   "outputs": [
    {
     "name": "stdout",
     "output_type": "stream",
     "text": [
      "{'a': 100, 'b': 200, 'x': 300, 'y': 200}\n",
      "{'a': 100, 'b': 200, 'x': 300, 'y': 200}\n"
     ]
    }
   ],
   "source": [
    "d1 = {'a': 100, 'b': 200}\n",
    "d2 = {'x': 300, 'y': 200}\n",
    "d3= {**d1,**d2}\n",
    "print(d3)\n",
    "d1.update(d2)\n",
    "print(d1)"
   ]
  },
  {
   "cell_type": "markdown",
   "metadata": {},
   "source": [
    "### Write a Python function to find the Max of three numbers."
   ]
  },
  {
   "cell_type": "code",
   "execution_count": 176,
   "metadata": {},
   "outputs": [
    {
     "name": "stdout",
     "output_type": "stream",
     "text": [
      "18\n"
     ]
    }
   ],
   "source": [
    "def max_of_two( x, y ):\n",
    "    max_num=0\n",
    "    if x > y:\n",
    "        max_num=x\n",
    "    else: \n",
    "        max_num=y\n",
    "    return max_num\n",
    "def max_of_three( x, y, z ):\n",
    "    max_num1=0\n",
    "    if max_of_two(x,y) < z:\n",
    "        max_num1 = z\n",
    "    else:\n",
    "        max_num1= max_of_two(x,y)\n",
    "    return max_num1\n",
    "\n",
    "print(max_of_three(18, 14, -8))\n",
    "\n"
   ]
  },
  {
   "cell_type": "markdown",
   "metadata": {
    "collapsed": true
   },
   "source": [
    "### Write a Python program to reverse a string."
   ]
  },
  {
   "cell_type": "code",
   "execution_count": 210,
   "metadata": {},
   "outputs": [
    {
     "name": "stdout",
     "output_type": "stream",
     "text": [
      "['D', 'I', 'A', 'S', 'N', 'I']\n"
     ]
    }
   ],
   "source": [
    "def string_reverse(str1):\n",
    "    new_str=[]\n",
    "    i= len(str1) -1\n",
    "    while 0 <=i < len(str1):\n",
    "        new_str.append(str1[i])\n",
    "        i -=1\n",
    "    return(str(new_str))\n",
    "    \n",
    "print(string_reverse('INSAID'))"
   ]
  },
  {
   "cell_type": "code",
   "execution_count": 217,
   "metadata": {},
   "outputs": [
    {
     "name": "stdout",
     "output_type": "stream",
     "text": [
      "DIASNI\n"
     ]
    }
   ],
   "source": [
    "## Simpler Program\n",
    "\n",
    "def string_reverse1(xyz):\n",
    "    nxyz=xyz[::-1]    ## Slicing the string with index value. Start from last value towards first with step -1\n",
    "    return(nxyz)\n",
    "\n",
    "print(string_reverse1('INSAID'))"
   ]
  },
  {
   "cell_type": "markdown",
   "metadata": {
    "collapsed": true
   },
   "source": [
    "### Write a Python function to calculate the factorial of a number "
   ]
  },
  {
   "cell_type": "code",
   "execution_count": 222,
   "metadata": {},
   "outputs": [
    {
     "name": "stdout",
     "output_type": "stream",
     "text": [
      "Input a number to compute the factiorial : 4\n",
      "24\n"
     ]
    }
   ],
   "source": [
    "def factorial(n):\n",
    "    fact=1\n",
    "    if n <=1 :\n",
    "        fact=1\n",
    "    else:\n",
    "        fact= n * factorial(n-1) ## Nesting the same function inside the function\n",
    "    return fact\n",
    "n=int(input(\"Input a number to compute the factiorial : \"))\n",
    "print(factorial(n))\n",
    "\n"
   ]
  },
  {
   "cell_type": "markdown",
   "metadata": {},
   "source": [
    "### Write a Python function to sum all the numbers in a list."
   ]
  },
  {
   "cell_type": "code",
   "execution_count": 223,
   "metadata": {},
   "outputs": [
    {
     "name": "stdout",
     "output_type": "stream",
     "text": [
      "20\n"
     ]
    }
   ],
   "source": [
    "def sum_of_list(numbers):\n",
    "    tot=0\n",
    "    for i in numbers:\n",
    "        tot +=i\n",
    "    return tot\n",
    "print(sum_of((8, 2, 3, 0, 7)))"
   ]
  },
  {
   "cell_type": "markdown",
   "metadata": {
    "collapsed": true
   },
   "source": [
    "### Write a Python function to check whether a number is in a given range."
   ]
  },
  {
   "cell_type": "code",
   "execution_count": 224,
   "metadata": {},
   "outputs": [
    {
     "data": {
      "text/plain": [
       "True"
      ]
     },
     "execution_count": 224,
     "metadata": {},
     "output_type": "execute_result"
    }
   ],
   "source": [
    "def test_range(n,x,y):\n",
    "    flag = False\n",
    "    if n in range(x,y):\n",
    "        flag=True\n",
    "    else:\n",
    "        flag=flag\n",
    "    return flag \n",
    "test_range(5,1,20)"
   ]
  },
  {
   "cell_type": "markdown",
   "metadata": {},
   "source": [
    "### Find the value of pi using math module."
   ]
  },
  {
   "cell_type": "code",
   "execution_count": 225,
   "metadata": {},
   "outputs": [
    {
     "name": "stdout",
     "output_type": "stream",
     "text": [
      "3.141592653589793\n"
     ]
    }
   ],
   "source": [
    "# import statement example\n",
    "# to import standard module math\n",
    "\n",
    "import math\n",
    "\n",
    "print(math.pi)\n"
   ]
  },
  {
   "cell_type": "markdown",
   "metadata": {},
   "source": [
    "### Write a Python program to read an entire text file.\n",
    "\n",
    "### Content of text.txt.\n",
    "\n",
    "### What is Python language?      \n",
    "\n",
    "#### Python is a widely used high-level, general-purpose, interpreted, dynamic programming language."
   ]
  },
  {
   "cell_type": "code",
   "execution_count": 251,
   "metadata": {},
   "outputs": [
    {
     "name": "stdout",
     "output_type": "stream",
     "text": [
      "This is a new file\n",
      "This is line 2 \n",
      "This is line3\n",
      "\n"
     ]
    }
   ],
   "source": [
    "def file_read(fname):\n",
    "    ftext= open(fname)\n",
    "    print(ftext.read())\n",
    "\n",
    "file_read('test_new.txt')"
   ]
  },
  {
   "cell_type": "markdown",
   "metadata": {
    "collapsed": true
   },
   "source": [
    "### Write a Python program to read a file line by line and store it into a list."
   ]
  },
  {
   "cell_type": "code",
   "execution_count": 252,
   "metadata": {},
   "outputs": [
    {
     "name": "stdout",
     "output_type": "stream",
     "text": [
      "['This is a new file\\n', 'This is line 2 \\n', 'This is line3\\n']\n"
     ]
    }
   ],
   "source": [
    "def file_read(fname):\n",
    "        ftext=open(fname)\n",
    "        #flist=list(ftext.readlines())\n",
    "        return ftext.readlines()   #### this will also result is list implicitly.\n",
    "\n",
    "print(file_read('test_new.txt'))"
   ]
  },
  {
   "cell_type": "markdown",
   "metadata": {},
   "source": [
    "### A python program to create user-defined exception."
   ]
  },
  {
   "cell_type": "code",
   "execution_count": 7,
   "metadata": {},
   "outputs": [
    {
     "name": "stdout",
     "output_type": "stream",
     "text": [
      "A New Exception occured: 0.42857142857142855\n"
     ]
    }
   ],
   "source": [
    "class MyError(Exception):\n",
    " \n",
    "    # Constructor or Initializer\n",
    "    def __init__(self, value):\n",
    "        self.value = value\n",
    " \n",
    "    # __str__ is to print() the value\n",
    "    def __str__(self):\n",
    "        return # Your code goes here to get -> 'A New Exception occured: 0.42857142857142855'\n",
    " \n",
    "try:\n",
    "    raise(MyError(3/7))\n",
    " \n",
    "except MyError as error:\n",
    "    print(error)\n"
   ]
  },
  {
   "cell_type": "markdown",
   "metadata": {},
   "source": [
    "### Write a Python program to calculate the discriminant value. (b <sup>2</sup> - 4ac)"
   ]
  },
  {
   "cell_type": "code",
   "execution_count": 9,
   "metadata": {},
   "outputs": [
    {
     "name": "stdout",
     "output_type": "stream",
     "text": [
      "The a value: 11\n",
      "The b value: 111\n",
      "The c value: 111\n"
     ]
    }
   ],
   "source": [
    "def discriminant():\n",
    "    a_value = float(input('The a value: '))\n",
    "    b_value = float(input('The b value: '))\n",
    "    c_value = float(input('The c value: '))\n",
    "    \n",
    "    # Calculate th\n",
    "    \n",
    "    return # The value\n",
    "\n",
    "\n",
    "discriminant()\n"
   ]
  },
  {
   "cell_type": "code",
   "execution_count": 10,
   "metadata": {},
   "outputs": [
    {
     "name": "stdout",
     "output_type": "stream",
     "text": [
      "Hello World\n"
     ]
    }
   ],
   "source": [
    "print('Hello World')"
   ]
  },
  {
   "cell_type": "code",
   "execution_count": 245,
   "metadata": {},
   "outputs": [
    {
     "name": "stdout",
     "output_type": "stream",
     "text": [
      "What am I typing are you able to see?\n"
     ]
    }
   ],
   "source": [
    "print('What am I typing are you able to see?')"
   ]
  }
 ],
 "metadata": {
  "kernelspec": {
   "display_name": "Python 3",
   "language": "python",
   "name": "python3"
  },
  "language_info": {
   "codemirror_mode": {
    "name": "ipython",
    "version": 3
   },
   "file_extension": ".py",
   "mimetype": "text/x-python",
   "name": "python",
   "nbconvert_exporter": "python",
   "pygments_lexer": "ipython3",
   "version": "3.7.3"
  }
 },
 "nbformat": 4,
 "nbformat_minor": 2
}
